{
 "cells": [
  {
   "cell_type": "code",
   "execution_count": 17,
   "id": "fc3d9da6",
   "metadata": {},
   "outputs": [],
   "source": [
    "import numpy as np"
   ]
  },
  {
   "cell_type": "markdown",
   "id": "cfbb3e2c",
   "metadata": {},
   "source": [
    " ## Assembling the Mass and Stiff Matrix"
   ]
  },
  {
   "cell_type": "code",
   "execution_count": 18,
   "id": "698002b7",
   "metadata": {},
   "outputs": [],
   "source": [
    "def MK(n):\n",
    "    x = np.linspace(0,1,n)\n",
    "    h = x[1]-x[0]\n",
    "    \n",
    "    M = np.zeros((n,n))\n",
    "    K = np.zeros((n,n))\n",
    "    \n",
    "    \n",
    "    M[0,0:2] = np.array([2,1])\n",
    "    M[-1,:] = M[0,::-1]\n",
    "    \n",
    "    K[0,0:2] = np.array([1,-1])\n",
    "    K[-1,:] = K[0,::-1]\n",
    "    \n",
    "    for i in range(1,n-1):\n",
    "        M[i,i-1:i+2] = np.array([1,4,1])\n",
    "        K[i,i-1:i+2] = np.array([-1,2,-1])\n",
    "    \n",
    "    return (h/6)*M , (1/h)*K "
   ]
  },
  {
   "cell_type": "code",
   "execution_count": 15,
   "id": "d5e3eab6",
   "metadata": {},
   "outputs": [],
   "source": [
    "M,K = MK(5)"
   ]
  },
  {
   "cell_type": "code",
   "execution_count": 16,
   "id": "7370e8c1",
   "metadata": {},
   "outputs": [
    {
     "data": {
      "text/plain": [
       "array([[ 4., -4.,  0.,  0.,  0.],\n",
       "       [-4.,  8., -4.,  0.,  0.],\n",
       "       [ 0., -4.,  8., -4.,  0.],\n",
       "       [ 0.,  0., -4.,  8., -4.],\n",
       "       [ 0.,  0.,  0., -4.,  4.]])"
      ]
     },
     "execution_count": 16,
     "metadata": {},
     "output_type": "execute_result"
    }
   ],
   "source": [
    "M\n",
    "K"
   ]
  },
  {
   "cell_type": "markdown",
   "id": "509d3e3f",
   "metadata": {},
   "source": [
    "## Assembling the load vector"
   ]
  },
  {
   "cell_type": "code",
   "execution_count": 29,
   "id": "f55b8f40",
   "metadata": {},
   "outputs": [],
   "source": [
    "pi = np.pi\n",
    "c = 1 + pi**2\n",
    "n = 5\n",
    "x = np.linspace(0,1,n)\n",
    "h = x[1] - x[0]\n",
    "# integral of bcos*pi*x\n",
    "def I0(a,b):\n",
    "    return (np.sin(pi*b) - np.sin(pi*a))/pi\n",
    "    \n",
    "\n",
    "\n",
    "#integral of xcos*pi*x\n",
    "def I1(a,b):\n",
    "    return (b*np.sin(pi*b) - a*np.sin(pi*a)) / pi + (np.cos(pi*b) - np.cos(pi*a)) / pi**2\n",
    "\n",
    "\n",
    "# loop to assemble F\n",
    "F = np.zeros(n)\n",
    "\n",
    "for i in range(n-1):\n",
    "    a = x[i]\n",
    "    b = x[i+1]\n",
    "    F1 =(c/h) *(b*I0(a,b)-I1(a,b)) \n",
    "    F2 = (c/h) * (I1(a,b)-a*I0(a,b))\n",
    "    \n",
    "    F[i] += F1\n",
    "    F[i+1] += F2\n",
    "\n",
    "\n",
    "    "
   ]
  },
  {
   "cell_type": "code",
   "execution_count": 30,
   "id": "eb7ecf6d",
   "metadata": {},
   "outputs": [
    {
     "data": {
      "text/plain": [
       "array([ 1.29027803e+00,  1.82472868e+00, -2.77555756e-16, -1.82472868e+00,\n",
       "       -1.29027803e+00])"
      ]
     },
     "execution_count": 30,
     "metadata": {},
     "output_type": "execute_result"
    }
   ],
   "source": [
    "F"
   ]
  },
  {
   "cell_type": "code",
   "execution_count": 31,
   "id": "55731355",
   "metadata": {},
   "outputs": [
    {
     "name": "stdout",
     "output_type": "stream",
     "text": [
      "[ 1.00460073e+00  7.10359988e-01  1.39384415e-15 -7.10359988e-01\n",
      " -1.00460073e+00]\n"
     ]
    }
   ],
   "source": [
    "# assembling A\n",
    "\n",
    "A = M + K\n",
    "\n",
    "# solving alpha\n",
    "alpha = np.linalg.solve(A,F)\n",
    "\n",
    "print(alpha)"
   ]
  },
  {
   "cell_type": "code",
   "execution_count": null,
   "id": "d1b3d015",
   "metadata": {},
   "outputs": [],
   "source": []
  }
 ],
 "metadata": {
  "kernelspec": {
   "display_name": "ntf3",
   "language": "python",
   "name": "python3"
  },
  "language_info": {
   "codemirror_mode": {
    "name": "ipython",
    "version": 3
   },
   "file_extension": ".py",
   "mimetype": "text/x-python",
   "name": "python",
   "nbconvert_exporter": "python",
   "pygments_lexer": "ipython3",
   "version": "3.11.12"
  }
 },
 "nbformat": 4,
 "nbformat_minor": 5
}
