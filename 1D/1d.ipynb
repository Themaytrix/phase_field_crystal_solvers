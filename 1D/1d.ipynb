{
 "cells": [
  {
   "cell_type": "code",
   "execution_count": 1,
   "id": "fc3d9da6",
   "metadata": {},
   "outputs": [],
   "source": [
    "import numpy as np"
   ]
  },
  {
   "cell_type": "markdown",
   "id": "cfbb3e2c",
   "metadata": {},
   "source": [
    " ## Assembling the Mass and Stiff Matrix"
   ]
  },
  {
   "cell_type": "code",
   "execution_count": 2,
   "id": "698002b7",
   "metadata": {},
   "outputs": [],
   "source": [
    "def MK(n):\n",
    "    x = np.linspace(0,1,n)\n",
    "    h = x[1]-x[0]\n",
    "    \n",
    "    M = np.zeros((n,n))\n",
    "    K = np.zeros((n,n))\n",
    "    \n",
    "    \n",
    "    M[0,0:2] = np.array([2,1])\n",
    "    M[-1,:] = M[0,::-1]\n",
    "    \n",
    "    K[0,0:2] = np.array([1,-1])\n",
    "    K[-1,:] = K[0,::-1]\n",
    "    \n",
    "    for i in range(1,n-1):\n",
    "        M[i,i-1:i+2] = np.array([1,4,1])\n",
    "        K[i,i-1:i+2] = np.array([-1,2,-1])\n",
    "    \n",
    "    return (h/6)*M , (1/h)*K "
   ]
  },
  {
   "cell_type": "code",
   "execution_count": 3,
   "id": "d5e3eab6",
   "metadata": {},
   "outputs": [],
   "source": [
    "M,K = MK(5)"
   ]
  },
  {
   "cell_type": "code",
   "execution_count": null,
   "id": "f8adbedc",
   "metadata": {},
   "outputs": [],
   "source": []
  },
  {
   "cell_type": "code",
   "execution_count": 4,
   "id": "7370e8c1",
   "metadata": {},
   "outputs": [
    {
     "data": {
      "text/plain": [
       "array([[ 4., -4.,  0.,  0.,  0.],\n",
       "       [-4.,  8., -4.,  0.,  0.],\n",
       "       [ 0., -4.,  8., -4.,  0.],\n",
       "       [ 0.,  0., -4.,  8., -4.],\n",
       "       [ 0.,  0.,  0., -4.,  4.]])"
      ]
     },
     "execution_count": 4,
     "metadata": {},
     "output_type": "execute_result"
    }
   ],
   "source": [
    "M\n",
    "K"
   ]
  },
  {
   "cell_type": "markdown",
   "id": "509d3e3f",
   "metadata": {},
   "source": [
    "## Assembling the load vector"
   ]
  },
  {
   "cell_type": "code",
   "execution_count": 5,
   "id": "f55b8f40",
   "metadata": {},
   "outputs": [],
   "source": [
    "pi = np.pi\n",
    "c = 1 + pi**2\n",
    "n = 5\n",
    "x = np.linspace(0,1,n)\n",
    "h = x[1] - x[0]\n",
    "# integral of bcos*pi*x\n",
    "def I0(a,b):\n",
    "    return (np.sin(pi*b) - np.sin(pi*a))/pi\n",
    "    \n",
    "\n",
    "\n",
    "#integral of xcos*pi*x\n",
    "def I1(a,b):\n",
    "    return (b*np.sin(pi*b) - a*np.sin(pi*a)) / pi + (np.cos(pi*b) - np.cos(pi*a)) / pi**2\n",
    "\n",
    "\n",
    "# loop to assemble F\n",
    "\n",
    "def f(x):\n",
    "    return (1+pi**2)*np.cos(pi*x)\n",
    "\n",
    "f_new = f(x)\n",
    "F = np.zeros(n)\n",
    "\n",
    "for i in range(n-1):\n",
    "    a = x[i]\n",
    "    b = x[i+1]\n",
    "    F1 =(c/h) *(b*I0(a,b)-I1(a,b)) \n",
    "    F2 = (c/h) * (I1(a,b)-a*I0(a,b))\n",
    "    \n",
    "    F[i] += F1\n",
    "    F[i+1] += F2\n",
    "\n",
    "\n",
    "    "
   ]
  },
  {
   "cell_type": "code",
   "execution_count": 6,
   "id": "eb7ecf6d",
   "metadata": {},
   "outputs": [
    {
     "name": "stdout",
     "output_type": "stream",
     "text": [
      "[ 1.22604916e+00  1.73389535e+00  1.84217082e-16 -1.73389535e+00\n",
      " -1.22604916e+00]\n"
     ]
    }
   ],
   "source": [
    "F\n",
    "\n",
    "nF = M@f_new\n",
    "print(nF)"
   ]
  },
  {
   "cell_type": "code",
   "execution_count": null,
   "id": "432cd40f",
   "metadata": {},
   "outputs": [],
   "source": []
  },
  {
   "cell_type": "code",
   "execution_count": 7,
   "id": "55731355",
   "metadata": {},
   "outputs": [
    {
     "name": "stdout",
     "output_type": "stream",
     "text": [
      "[ 1.00460073e+00  7.10359988e-01  1.39384415e-15 -7.10359988e-01\n",
      " -1.00460073e+00]\n"
     ]
    }
   ],
   "source": [
    "# assembling A\n",
    "\n",
    "A = M + K\n",
    "\n",
    "# solving alpha\n",
    "alpha = np.linalg.solve(A,F)\n",
    "\n",
    "print(alpha)"
   ]
  },
  {
   "cell_type": "markdown",
   "id": "7d41b26e",
   "metadata": {},
   "source": [
    "Solving for a matrix of matrices."
   ]
  },
  {
   "cell_type": "code",
   "execution_count": 9,
   "id": "d1b3d015",
   "metadata": {},
   "outputs": [],
   "source": [
    "A = np.block([[K,K+M],[M,-K]])"
   ]
  },
  {
   "cell_type": "code",
   "execution_count": 10,
   "id": "bab92e7a",
   "metadata": {},
   "outputs": [
    {
     "name": "stdout",
     "output_type": "stream",
     "text": [
      "[[ 4.         -4.          0.          0.          0.          4.08333333\n",
      "  -3.95833333  0.          0.          0.        ]\n",
      " [-4.          8.         -4.          0.          0.         -3.95833333\n",
      "   8.16666667 -3.95833333  0.          0.        ]\n",
      " [ 0.         -4.          8.         -4.          0.          0.\n",
      "  -3.95833333  8.16666667 -3.95833333  0.        ]\n",
      " [ 0.          0.         -4.          8.         -4.          0.\n",
      "   0.         -3.95833333  8.16666667 -3.95833333]\n",
      " [ 0.          0.          0.         -4.          4.          0.\n",
      "   0.          0.         -3.95833333  4.08333333]\n",
      " [ 0.08333333  0.04166667  0.          0.          0.         -4.\n",
      "   4.         -0.         -0.         -0.        ]\n",
      " [ 0.04166667  0.16666667  0.04166667  0.          0.          4.\n",
      "  -8.          4.         -0.         -0.        ]\n",
      " [ 0.          0.04166667  0.16666667  0.04166667  0.         -0.\n",
      "   4.         -8.          4.         -0.        ]\n",
      " [ 0.          0.          0.04166667  0.16666667  0.04166667 -0.\n",
      "  -0.          4.         -8.          4.        ]\n",
      " [ 0.          0.          0.          0.04166667  0.08333333 -0.\n",
      "  -0.         -0.          4.         -4.        ]]\n"
     ]
    }
   ],
   "source": [
    "print(A)"
   ]
  },
  {
   "cell_type": "code",
   "execution_count": 14,
   "id": "7b3e3f91",
   "metadata": {},
   "outputs": [
    {
     "data": {
      "text/plain": [
       "array([ 1.22134163e+01,  1.72723789e+01,  1.72620674e-15, -1.72723789e+01,\n",
       "       -1.22134163e+01,  0.00000000e+00,  0.00000000e+00,  0.00000000e+00,\n",
       "        0.00000000e+00,  0.00000000e+00])"
      ]
     },
     "execution_count": 14,
     "metadata": {},
     "output_type": "execute_result"
    }
   ],
   "source": [
    "# constructing F\n",
    "\n",
    "def F(x,M):\n",
    "    f = (pi**4 + pi**2 +1) * np.cos(pi*x)\n",
    "    f = M@f\n",
    "    \n",
    "    # represent the zeros\n",
    "    z = np.zeros(n)\n",
    "    \n",
    "    return np.hstack((f,z))\n",
    "\n",
    "force_func =F(x,M)\n",
    "\n",
    "force_func.shape\n",
    "\n",
    "force_func\n",
    "    "
   ]
  },
  {
   "cell_type": "code",
   "execution_count": 15,
   "id": "5190b304",
   "metadata": {},
   "outputs": [],
   "source": [
    "# solve for the system\n",
    "\n",
    "linear_solve = np.linalg.solve(A,force_func)"
   ]
  },
  {
   "cell_type": "code",
   "execution_count": 16,
   "id": "9a52f143",
   "metadata": {},
   "outputs": [
    {
     "data": {
      "text/plain": [
       "array([ 9.42954406e+00,  6.66769455e+00, -2.66453526e-15, -6.66769455e+00,\n",
       "       -9.42954406e+00,  9.07852995e-01,  6.41949009e-01,  1.26682206e-15,\n",
       "       -6.41949009e-01, -9.07852995e-01])"
      ]
     },
     "execution_count": 16,
     "metadata": {},
     "output_type": "execute_result"
    }
   ],
   "source": [
    "linear_solve"
   ]
  },
  {
   "cell_type": "code",
   "execution_count": 17,
   "id": "7a04979d",
   "metadata": {},
   "outputs": [],
   "source": [
    "v_vector = linear_solve[:n]\n",
    "u_vector = linear_solve[n:]"
   ]
  },
  {
   "cell_type": "code",
   "execution_count": 18,
   "id": "f913789e",
   "metadata": {},
   "outputs": [
    {
     "data": {
      "text/plain": [
       "array([ 9.42954406e+00,  6.66769455e+00, -2.66453526e-15, -6.66769455e+00,\n",
       "       -9.42954406e+00])"
      ]
     },
     "execution_count": 18,
     "metadata": {},
     "output_type": "execute_result"
    }
   ],
   "source": [
    "v_vector"
   ]
  },
  {
   "cell_type": "code",
   "execution_count": 19,
   "id": "387cbf62",
   "metadata": {},
   "outputs": [
    {
     "data": {
      "text/plain": [
       "array([ 9.07852995e-01,  6.41949009e-01,  1.26682206e-15, -6.41949009e-01,\n",
       "       -9.07852995e-01])"
      ]
     },
     "execution_count": 19,
     "metadata": {},
     "output_type": "execute_result"
    }
   ],
   "source": [
    "u_vector"
   ]
  },
  {
   "cell_type": "code",
   "execution_count": null,
   "id": "db076c3e",
   "metadata": {},
   "outputs": [],
   "source": []
  }
 ],
 "metadata": {
  "kernelspec": {
   "display_name": "ntf3",
   "language": "python",
   "name": "python3"
  },
  "language_info": {
   "codemirror_mode": {
    "name": "ipython",
    "version": 3
   },
   "file_extension": ".py",
   "mimetype": "text/x-python",
   "name": "python",
   "nbconvert_exporter": "python",
   "pygments_lexer": "ipython3",
   "version": "3.11.12"
  }
 },
 "nbformat": 4,
 "nbformat_minor": 5
}
